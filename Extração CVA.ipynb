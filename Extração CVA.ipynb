{
 "cells": [
  {
   "cell_type": "code",
   "execution_count": 1,
   "id": "0552d47f",
   "metadata": {},
   "outputs": [],
   "source": [
    "##Pacotes necessários\n",
    "#!pip install openpyxl pandas re tqdm.notebook os requests\n",
    "from openpyxl.workbook import Workbook\n",
    "from openpyxl import load_workbook\n",
    "from openpyxl.utils import get_column_interval\n",
    "import pandas as pd\n",
    "import re\n",
    "import pandas as pd\n",
    "from tqdm.notebook import tqdm # progress bar\n",
    "from tqdm.notebook import tqdm_notebook\n",
    "import os\n",
    "import pandas\n",
    "import requests"
   ]
  },
  {
   "cell_type": "code",
   "execution_count": 2,
   "id": "74d49b00",
   "metadata": {
    "scrolled": false
   },
   "outputs": [
    {
     "name": "stdout",
     "output_type": "stream",
     "text": [
      "Qual pasta do CVA? CVA 2019\n"
     ]
    },
    {
     "data": {
      "application/vnd.jupyter.widget-view+json": {
       "model_id": "1554fbcf5878470fbd70c6ef1dd4e2c0",
       "version_major": 2,
       "version_minor": 0
      },
      "text/plain": [
       "0it [00:00, ?it/s]"
      ]
     },
     "metadata": {},
     "output_type": "display_data"
    },
    {
     "data": {
      "application/vnd.jupyter.widget-view+json": {
       "model_id": "fc7783d7bb654ceb87c2e037c0cd19e4",
       "version_major": 2,
       "version_minor": 0
      },
      "text/plain": [
       "  0%|          | 0/46 [00:00<?, ?it/s]"
      ]
     },
     "metadata": {},
     "output_type": "display_data"
    },
    {
     "name": "stdout",
     "output_type": "stream",
     "text": [
      "CVA AmE 2019 F.xlsx\n",
      "CVA CEA 2019 E.xlsx\n",
      "CVA CEEE-D 2019 J1.xlsx\n",
      "CVA Celesc-DIS 2019 RTA.xlsx\n",
      "CVA Celg-D 2019 F.xlsx\n",
      "CVA Cemig-D 2019 G.xlsx\n",
      "CVA Cepisa 2019 I.xlsx\n",
      "CVA Ceron 2019 E Final.xlsx\n",
      "CVA Chesp 2019.xlsx\n",
      "CVA Copel-DIS 2019 I1.xlsm\n",
      "CVA CPFL Piratininga 2019 G.xlsx\n",
      "CVA DMED 2019 D.xlsx\n",
      "CVA DMED 2019 D1.xlsx\n",
      "CVA EBO 2019 .xlsx\n",
      "CVA EDP ES  RTP 2019 .xlsx\n",
      "CVA EDP SP 2019 G.xlsx\n",
      "CVA Elektro 2019 .xlsx\n",
      "CVA Eletroacre 2019 I.xlsx\n",
      "CVA ELFSM 2019.xlsm\n",
      "CVA Enel SP 2019 H_Final.xlsm\n",
      "CVA EPB 2019.xlsx\n",
      "CVA ETO 2019 H.xlsm\n",
      "CVA Forcel 2019.xlsm\n",
      "CVA Ienergia RTA  2019.xlsx\n",
      "CVA RGE SUL 2019 .xlsx\n",
      "CVA RGE SUL 2019 1.xlsx\n",
      "CVA Roraima Energia 2019 G.xlsx\n",
      "CVA RTA  Light 2019 .xlsx\n",
      "CVA RTP Celpa 2019.xlsx\n",
      "CVA Sul Sudeste 2019 L Final1.xlsm\n",
      "CVA Uhenpal 2019 D.xlsx\n",
      "CVA_CEAL_2019.xlsx\n",
      "CVA_CEB-DIS_2019.xlsx\n",
      "CVA_Celpe_2019.xlsx\n",
      "CVA_CEMAR_2019.xlsm\n",
      "CVA_Coelba_2019 .xlsx\n",
      "CVA_Cosern_2019.xlsx\n",
      "CVA_CPFL_Paulista_2019 .xlsx\n",
      "CVA_CPFL_Santa_Cruz_2019.xlsx\n",
      "CVA_EMG_2019 .xlsx\n",
      "CVA_EMS _2019.xlsx\n",
      "CVA_EMT_2019 .xlsx\n",
      "CVA_Enel CE_2019 .xlsx\n",
      "CVA_Enel_RJ_2019 .xlsx\n",
      "CVA_ESE_2019.xlsx\n",
      "CVA_MuxEnergia_2019.xlsm\n"
     ]
    }
   ],
   "source": [
    "def load_workbook_range(range_string, ws): ## Função StackOverflow para a leitura de uma pasta\n",
    "    col_start, col_end = re.findall(\"[A-Z]+\", range_string)\n",
    "\n",
    "    data_rows = []\n",
    "    for row in ws[range_string]:\n",
    "        data_rows.append([cell.value for cell in row])\n",
    "\n",
    "    return pd.DataFrame(data_rows, columns=get_column_interval(col_start, col_end))\n",
    "pasta = input(\"Qual pasta do CVA? \")\n",
    "path = f'K:/DPRE/_Comum/Extração Python/CVA/{pasta}'\n",
    "\n",
    "files = []\n",
    "for (dirpath, dirnames, filenames) in tqdm_notebook(os.walk(path)):\n",
    "    files.extend(filenames) ## Pega o nome dos arquivos na pasta descrita em \"path\"\n",
    "qtdade_arq = len(files)\n",
    "qtdade_arq = qtdade_arq\n",
    "\n",
    "for i in tqdm_notebook(range(0,qtdade_arq)):\n",
    "    f = files[i]\n",
    "    print(f)\n",
    "    wb = load_workbook(os.path.join(path, f),read_only=True,data_only=True)\n",
    "    ExpSob = wb[\"ExpSob\"] ## Range da tabela necessário\n",
    "    tabela = load_workbook_range('B30:D43', ExpSob)\n",
    "    Tabela = tabela[1:13]\n",
    "    A = ExpSob[\"H4\"].value ## Nome da distribuidora\n",
    "    len1 = len(Tabela)\n",
    "    lista1 = ([A] * len1 )\n",
    "    Tabela = Tabela.assign(Distribuidora=lista1)\n",
    "    Tabela = Tabela.rename(columns={\"B\":\"Mês\",\"C\":\"Contratos (MWh)\",\"D\":\"TRC (MWh)\"}) ##A é o nome da distribuidora\n",
    "    if i == 0:\n",
    "        TabelaSalva = Tabela\n",
    "    elif i>0:\n",
    "        Tabela = pd.concat([TabelaSalva, Tabela], ignore_index=True)\n",
    "        TabelaSalva = Tabela\n",
    "Tabela.to_excel(f\"tabela_{pasta}.xlsx\") ## exporta para o arquivo tabela"
   ]
  },
  {
   "cell_type": "code",
   "execution_count": null,
   "id": "d08a7c27",
   "metadata": {},
   "outputs": [],
   "source": [
    "i = f\n",
    "if wb.sheetnames[-3] == \"ExpSob\":\n",
    "    print(i)\n",
    "else:\n",
    "    print(f\"A tabela {i} não tem o sheet ExpSob\")"
   ]
  },
  {
   "cell_type": "code",
   "execution_count": null,
   "id": "c7039e6f",
   "metadata": {},
   "outputs": [],
   "source": []
  }
 ],
 "metadata": {
  "kernelspec": {
   "display_name": "Python 3 (ipykernel)",
   "language": "python",
   "name": "python3"
  },
  "language_info": {
   "codemirror_mode": {
    "name": "ipython",
    "version": 3
   },
   "file_extension": ".py",
   "mimetype": "text/x-python",
   "name": "python",
   "nbconvert_exporter": "python",
   "pygments_lexer": "ipython3",
   "version": "3.9.7"
  }
 },
 "nbformat": 4,
 "nbformat_minor": 5
}
